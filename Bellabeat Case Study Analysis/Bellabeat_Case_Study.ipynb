{
  "cells": [
    {
      "cell_type": "markdown",
      "id": "fe87e848",
      "metadata": {
        "id": "fe87e848"
      },
      "source": [
        "# BELLABEAT CASE STUDY"
      ]
    },
    {
      "cell_type": "markdown",
      "id": "66fe166d",
      "metadata": {
        "id": "66fe166d"
      },
      "source": [
        "## Tahap 1: ASK"
      ]
    },
    {
      "cell_type": "markdown",
      "id": "935deb47",
      "metadata": {
        "id": "935deb47"
      },
      "source": [
        "#### 1.0 About the Company\n",
        "Bellabeat adalah perusahaan teknologi tinggi yang memproduksi produk pintar yang berfokus pada kesehatan. Teknologi mereka menginformasikan dan menginspirasi wanita di seluruh dunia. Mengumpulkan data aktivitas, tidur, stres, dan kesehatan reproduksi memungkinkan Bellabeat untuk memberdayakan perempuan dengan pengetahuan tentang kesehatan dan kebiasaan mereka sendiri. Sejak didirikan pada tahun 2013, Bellabeat telah berkembang pesat dan dengan cepat memposisikan dirinya sebagai perusahaan kesehatan berbasis teknologi untuk wanita."
      ]
    },
    {
      "cell_type": "markdown",
      "id": "9c49f87a",
      "metadata": {
        "id": "9c49f87a"
      },
      "source": [
        "#### 1.1 Business Task\n",
        "Menganalisis data Pelacak Kebugaran FitBit untuk mendapatkan wawasan tentang cara konsumen menggunakan perangkat Fitbit mereka dan menemukan tren untuk membantu memandu strategi pemasaran Bellabeat."
      ]
    },
    {
      "cell_type": "markdown",
      "id": "c8d9cd09",
      "metadata": {
        "id": "c8d9cd09"
      },
      "source": [
        "#### 1.2 Business Objectives\n",
        "* Apa saja tren dalam penggunaan perangkat pintar?\n",
        "* Bagaimana tren ini berlaku untuk pelanggan Bellabeat?\n",
        "* Bagaimana tren ini dapat membantu memengaruhi strategi pemasaran Bellabeat?"
      ]
    },
    {
      "cell_type": "markdown",
      "id": "d77df76c",
      "metadata": {
        "id": "d77df76c"
      },
      "source": [
        "####  1.3 Key Stakeholders\n",
        "* **Urška Sršen**: salah satu pendiri dan Chief Creative Officer Bellabeat\n",
        "* **Sando Mur**: salah satu pendiri Matematikawan dan Bellabeat; anggota kunci tim eksekutif Bellabeat\n",
        "* **Bellabeat marketing analytics team**: Tim analis data yang memandu strategi pemasaran Bellabeat\n"
      ]
    },
    {
      "cell_type": "markdown",
      "id": "0d2a2142",
      "metadata": {
        "id": "0d2a2142"
      },
      "source": [
        "#### 1.4 Deliverables\n",
        "* Ringkasan tugas bisnis yang jelas\n",
        "* Deskripsi semua sumber data yang digunakan\n",
        "* Dokumentasi pembersihan atau manipulasi data\n",
        "* Ringkasan hasil analisis\n",
        "* Mendukung visualisasi dan insight\n",
        "* Rekomendasi berdasarkan hasil analisis"
      ]
    },
    {
      "cell_type": "markdown",
      "id": "286a0539",
      "metadata": {
        "id": "286a0539"
      },
      "source": [
        "## Tahap 2: PREPARE"
      ]
    },
    {
      "cell_type": "markdown",
      "id": "010d30c4",
      "metadata": {
        "id": "010d30c4"
      },
      "source": [
        "#### 2.1 Data Source\n",
        "* Dataset yang digunakan dalam proyek ini adalah Data Pelacak Kebugaran FitBit yang tersedia di kaggle.\n",
        "* Menurut sumber, dataset ini dihasilkan oleh responden survei yang didistribusikan melalui Amazon Mechanical Turk antara 03.12.2016 dan 05.12.2016.\n",
        "* Tiga puluh pengguna FitBit yang memenuhi syarat menyetujui pengiriman data pelacak pribadi, termasuk keluaran tingkat menit untuk aktivitas fisik, detak jantung, dan pemantauan tidur.\n",
        "* Kumpulan data berisi informasi tentang aktivitas fisik, detak jantung, aktivitas harian, langkah, dan pemantauan tidur."
      ]
    },
    {
      "cell_type": "markdown",
      "id": "1de8012a",
      "metadata": {
        "id": "1de8012a"
      },
      "source": [
        "#### 2.2 Limitations\n",
        "* Data hanya mengumpulkan informasi dari 33 pengguna FitBit, sehingga data tidak mewakili semua pengguna FitBit.\n",
        "* Data dikumpulkan pada tahun 2016. Tingkat aktivitas pengguna FitBit, tingkat pendengaran, langkah, dan kebiasaan tidur kemungkinan besar telah berubah."
      ]
    },
    {
      "cell_type": "markdown",
      "id": "61e4a111",
      "metadata": {
        "id": "61e4a111"
      },
      "source": [
        "#### 2.3 Is Data ROCCC?\n",
        "Good data is ROCCC: Reliable, Orginal, Comprehensive, Current, and Cited\n",
        "\n",
        "* **Reliable: Tidak** - Data hanya memiliki 33 responden.\n",
        "* **Original: Tidak** - Data disediakan oleh Amazon Mechanical Turk\n",
        "* **Comprehensive: Ya** - Data FitBit cocok dengan sebagian besar produk Bellabeat\n",
        "* **Current: Tidak** - Data berusia 6 tahun\n",
        "* **Cited: Tidak** - Data dikumpulkan dari pihak ketiga (Amazon Mecanical Turk)"
      ]
    },
    {
      "cell_type": "markdown",
      "id": "003aa0ff",
      "metadata": {
        "id": "003aa0ff"
      },
      "source": [
        "## Tahap 3: PROCESS"
      ]
    },
    {
      "cell_type": "markdown",
      "id": "fe22e310",
      "metadata": {
        "id": "fe22e310"
      },
      "source": [
        "#### 3.1 Import Libraries\n",
        "Pandas, numpy, dan matplotlib diinstal untuk membaca data."
      ]
    },
    {
      "cell_type": "code",
      "execution_count": 1,
      "id": "0eb16b55",
      "metadata": {
        "id": "0eb16b55"
      },
      "outputs": [],
      "source": [
        "# import libraries\n",
        "import pandas as pd\n",
        "import numpy as np\n",
        "import matplotlib.pyplot as plt\n"
      ]
    },
    {
      "cell_type": "markdown",
      "id": "79ea480f",
      "metadata": {
        "id": "79ea480f"
      },
      "source": [
        "#### 3.2 Import data\n",
        "File yang digunakan untuk analisis ini adalah dailyActivity_merged.csv"
      ]
    },
    {
      "cell_type": "code",
      "execution_count": 2,
      "id": "227c3120",
      "metadata": {
        "id": "227c3120"
      },
      "outputs": [],
      "source": [
        "# import data\n",
        "daily_activity = pd.read_csv(\"dailyActivity_merged.csv\")\n"
      ]
    },
    {
      "cell_type": "markdown",
      "id": "48ddc08c",
      "metadata": {
        "id": "48ddc08c"
      },
      "source": [
        "#### Data cleaning and transformation\n",
        "* Dapatkan ikhtisar data\n",
        "* Periksa data untuk kesalahan, seperti nilai null atau hilang\n",
        "* Mengubah data sehingga dapat dianalisis"
      ]
    },
    {
      "cell_type": "code",
      "execution_count": 3,
      "id": "84b22964",
      "metadata": {
        "colab": {
          "base_uri": "https://localhost:8080/",
          "height": 270
        },
        "id": "84b22964",
        "outputId": "1b5a1c33-67a8-4ce0-fbac-d0ce0fb66946"
      },
      "outputs": [
        {
          "output_type": "execute_result",
          "data": {
            "text/plain": [
              "           Id ActivityDate  TotalSteps  TotalDistance  TrackerDistance  \\\n",
              "0  1503960366    4/12/2016       13162           8.50             8.50   \n",
              "1  1503960366    4/13/2016       10735           6.97             6.97   \n",
              "2  1503960366    4/14/2016       10460           6.74             6.74   \n",
              "3  1503960366    4/15/2016        9762           6.28             6.28   \n",
              "4  1503960366    4/16/2016       12669           8.16             8.16   \n",
              "\n",
              "   LoggedActivitiesDistance  VeryActiveDistance  ModeratelyActiveDistance  \\\n",
              "0                       0.0                1.88                      0.55   \n",
              "1                       0.0                1.57                      0.69   \n",
              "2                       0.0                2.44                      0.40   \n",
              "3                       0.0                2.14                      1.26   \n",
              "4                       0.0                2.71                      0.41   \n",
              "\n",
              "   LightActiveDistance  SedentaryActiveDistance  VeryActiveMinutes  \\\n",
              "0                 6.06                      0.0                 25   \n",
              "1                 4.71                      0.0                 21   \n",
              "2                 3.91                      0.0                 30   \n",
              "3                 2.83                      0.0                 29   \n",
              "4                 5.04                      0.0                 36   \n",
              "\n",
              "   FairlyActiveMinutes  LightlyActiveMinutes  SedentaryMinutes  Calories  \n",
              "0                   13                   328               728      1985  \n",
              "1                   19                   217               776      1797  \n",
              "2                   11                   181              1218      1776  \n",
              "3                   34                   209               726      1745  \n",
              "4                   10                   221               773      1863  "
            ],
            "text/html": [
              "\n",
              "  <div id=\"df-bc042828-6d21-4e0a-82e3-042f8b6b7190\">\n",
              "    <div class=\"colab-df-container\">\n",
              "      <div>\n",
              "<style scoped>\n",
              "    .dataframe tbody tr th:only-of-type {\n",
              "        vertical-align: middle;\n",
              "    }\n",
              "\n",
              "    .dataframe tbody tr th {\n",
              "        vertical-align: top;\n",
              "    }\n",
              "\n",
              "    .dataframe thead th {\n",
              "        text-align: right;\n",
              "    }\n",
              "</style>\n",
              "<table border=\"1\" class=\"dataframe\">\n",
              "  <thead>\n",
              "    <tr style=\"text-align: right;\">\n",
              "      <th></th>\n",
              "      <th>Id</th>\n",
              "      <th>ActivityDate</th>\n",
              "      <th>TotalSteps</th>\n",
              "      <th>TotalDistance</th>\n",
              "      <th>TrackerDistance</th>\n",
              "      <th>LoggedActivitiesDistance</th>\n",
              "      <th>VeryActiveDistance</th>\n",
              "      <th>ModeratelyActiveDistance</th>\n",
              "      <th>LightActiveDistance</th>\n",
              "      <th>SedentaryActiveDistance</th>\n",
              "      <th>VeryActiveMinutes</th>\n",
              "      <th>FairlyActiveMinutes</th>\n",
              "      <th>LightlyActiveMinutes</th>\n",
              "      <th>SedentaryMinutes</th>\n",
              "      <th>Calories</th>\n",
              "    </tr>\n",
              "  </thead>\n",
              "  <tbody>\n",
              "    <tr>\n",
              "      <th>0</th>\n",
              "      <td>1503960366</td>\n",
              "      <td>4/12/2016</td>\n",
              "      <td>13162</td>\n",
              "      <td>8.50</td>\n",
              "      <td>8.50</td>\n",
              "      <td>0.0</td>\n",
              "      <td>1.88</td>\n",
              "      <td>0.55</td>\n",
              "      <td>6.06</td>\n",
              "      <td>0.0</td>\n",
              "      <td>25</td>\n",
              "      <td>13</td>\n",
              "      <td>328</td>\n",
              "      <td>728</td>\n",
              "      <td>1985</td>\n",
              "    </tr>\n",
              "    <tr>\n",
              "      <th>1</th>\n",
              "      <td>1503960366</td>\n",
              "      <td>4/13/2016</td>\n",
              "      <td>10735</td>\n",
              "      <td>6.97</td>\n",
              "      <td>6.97</td>\n",
              "      <td>0.0</td>\n",
              "      <td>1.57</td>\n",
              "      <td>0.69</td>\n",
              "      <td>4.71</td>\n",
              "      <td>0.0</td>\n",
              "      <td>21</td>\n",
              "      <td>19</td>\n",
              "      <td>217</td>\n",
              "      <td>776</td>\n",
              "      <td>1797</td>\n",
              "    </tr>\n",
              "    <tr>\n",
              "      <th>2</th>\n",
              "      <td>1503960366</td>\n",
              "      <td>4/14/2016</td>\n",
              "      <td>10460</td>\n",
              "      <td>6.74</td>\n",
              "      <td>6.74</td>\n",
              "      <td>0.0</td>\n",
              "      <td>2.44</td>\n",
              "      <td>0.40</td>\n",
              "      <td>3.91</td>\n",
              "      <td>0.0</td>\n",
              "      <td>30</td>\n",
              "      <td>11</td>\n",
              "      <td>181</td>\n",
              "      <td>1218</td>\n",
              "      <td>1776</td>\n",
              "    </tr>\n",
              "    <tr>\n",
              "      <th>3</th>\n",
              "      <td>1503960366</td>\n",
              "      <td>4/15/2016</td>\n",
              "      <td>9762</td>\n",
              "      <td>6.28</td>\n",
              "      <td>6.28</td>\n",
              "      <td>0.0</td>\n",
              "      <td>2.14</td>\n",
              "      <td>1.26</td>\n",
              "      <td>2.83</td>\n",
              "      <td>0.0</td>\n",
              "      <td>29</td>\n",
              "      <td>34</td>\n",
              "      <td>209</td>\n",
              "      <td>726</td>\n",
              "      <td>1745</td>\n",
              "    </tr>\n",
              "    <tr>\n",
              "      <th>4</th>\n",
              "      <td>1503960366</td>\n",
              "      <td>4/16/2016</td>\n",
              "      <td>12669</td>\n",
              "      <td>8.16</td>\n",
              "      <td>8.16</td>\n",
              "      <td>0.0</td>\n",
              "      <td>2.71</td>\n",
              "      <td>0.41</td>\n",
              "      <td>5.04</td>\n",
              "      <td>0.0</td>\n",
              "      <td>36</td>\n",
              "      <td>10</td>\n",
              "      <td>221</td>\n",
              "      <td>773</td>\n",
              "      <td>1863</td>\n",
              "    </tr>\n",
              "  </tbody>\n",
              "</table>\n",
              "</div>\n",
              "      <button class=\"colab-df-convert\" onclick=\"convertToInteractive('df-bc042828-6d21-4e0a-82e3-042f8b6b7190')\"\n",
              "              title=\"Convert this dataframe to an interactive table.\"\n",
              "              style=\"display:none;\">\n",
              "        \n",
              "  <svg xmlns=\"http://www.w3.org/2000/svg\" height=\"24px\"viewBox=\"0 0 24 24\"\n",
              "       width=\"24px\">\n",
              "    <path d=\"M0 0h24v24H0V0z\" fill=\"none\"/>\n",
              "    <path d=\"M18.56 5.44l.94 2.06.94-2.06 2.06-.94-2.06-.94-.94-2.06-.94 2.06-2.06.94zm-11 1L8.5 8.5l.94-2.06 2.06-.94-2.06-.94L8.5 2.5l-.94 2.06-2.06.94zm10 10l.94 2.06.94-2.06 2.06-.94-2.06-.94-.94-2.06-.94 2.06-2.06.94z\"/><path d=\"M17.41 7.96l-1.37-1.37c-.4-.4-.92-.59-1.43-.59-.52 0-1.04.2-1.43.59L10.3 9.45l-7.72 7.72c-.78.78-.78 2.05 0 2.83L4 21.41c.39.39.9.59 1.41.59.51 0 1.02-.2 1.41-.59l7.78-7.78 2.81-2.81c.8-.78.8-2.07 0-2.86zM5.41 20L4 18.59l7.72-7.72 1.47 1.35L5.41 20z\"/>\n",
              "  </svg>\n",
              "      </button>\n",
              "      \n",
              "  <style>\n",
              "    .colab-df-container {\n",
              "      display:flex;\n",
              "      flex-wrap:wrap;\n",
              "      gap: 12px;\n",
              "    }\n",
              "\n",
              "    .colab-df-convert {\n",
              "      background-color: #E8F0FE;\n",
              "      border: none;\n",
              "      border-radius: 50%;\n",
              "      cursor: pointer;\n",
              "      display: none;\n",
              "      fill: #1967D2;\n",
              "      height: 32px;\n",
              "      padding: 0 0 0 0;\n",
              "      width: 32px;\n",
              "    }\n",
              "\n",
              "    .colab-df-convert:hover {\n",
              "      background-color: #E2EBFA;\n",
              "      box-shadow: 0px 1px 2px rgba(60, 64, 67, 0.3), 0px 1px 3px 1px rgba(60, 64, 67, 0.15);\n",
              "      fill: #174EA6;\n",
              "    }\n",
              "\n",
              "    [theme=dark] .colab-df-convert {\n",
              "      background-color: #3B4455;\n",
              "      fill: #D2E3FC;\n",
              "    }\n",
              "\n",
              "    [theme=dark] .colab-df-convert:hover {\n",
              "      background-color: #434B5C;\n",
              "      box-shadow: 0px 1px 3px 1px rgba(0, 0, 0, 0.15);\n",
              "      filter: drop-shadow(0px 1px 2px rgba(0, 0, 0, 0.3));\n",
              "      fill: #FFFFFF;\n",
              "    }\n",
              "  </style>\n",
              "\n",
              "      <script>\n",
              "        const buttonEl =\n",
              "          document.querySelector('#df-bc042828-6d21-4e0a-82e3-042f8b6b7190 button.colab-df-convert');\n",
              "        buttonEl.style.display =\n",
              "          google.colab.kernel.accessAllowed ? 'block' : 'none';\n",
              "\n",
              "        async function convertToInteractive(key) {\n",
              "          const element = document.querySelector('#df-bc042828-6d21-4e0a-82e3-042f8b6b7190');\n",
              "          const dataTable =\n",
              "            await google.colab.kernel.invokeFunction('convertToInteractive',\n",
              "                                                     [key], {});\n",
              "          if (!dataTable) return;\n",
              "\n",
              "          const docLinkHtml = 'Like what you see? Visit the ' +\n",
              "            '<a target=\"_blank\" href=https://colab.research.google.com/notebooks/data_table.ipynb>data table notebook</a>'\n",
              "            + ' to learn more about interactive tables.';\n",
              "          element.innerHTML = '';\n",
              "          dataTable['output_type'] = 'display_data';\n",
              "          await google.colab.output.renderOutput(dataTable, element);\n",
              "          const docLink = document.createElement('div');\n",
              "          docLink.innerHTML = docLinkHtml;\n",
              "          element.appendChild(docLink);\n",
              "        }\n",
              "      </script>\n",
              "    </div>\n",
              "  </div>\n",
              "  "
            ]
          },
          "metadata": {},
          "execution_count": 3
        }
      ],
      "source": [
        "# Get an overview of the data\n",
        "daily_activity.head()\n"
      ]
    },
    {
      "cell_type": "code",
      "execution_count": 4,
      "id": "4d93cfdc",
      "metadata": {
        "colab": {
          "base_uri": "https://localhost:8080/"
        },
        "id": "4d93cfdc",
        "outputId": "fb8f7f7b-0519-4a28-d4e8-5709dcd0e6fa"
      },
      "outputs": [
        {
          "output_type": "stream",
          "name": "stdout",
          "text": [
            "<class 'pandas.core.frame.DataFrame'>\n",
            "RangeIndex: 940 entries, 0 to 939\n",
            "Data columns (total 15 columns):\n",
            " #   Column                    Non-Null Count  Dtype  \n",
            "---  ------                    --------------  -----  \n",
            " 0   Id                        940 non-null    int64  \n",
            " 1   ActivityDate              940 non-null    object \n",
            " 2   TotalSteps                940 non-null    int64  \n",
            " 3   TotalDistance             940 non-null    float64\n",
            " 4   TrackerDistance           940 non-null    float64\n",
            " 5   LoggedActivitiesDistance  940 non-null    float64\n",
            " 6   VeryActiveDistance        940 non-null    float64\n",
            " 7   ModeratelyActiveDistance  940 non-null    float64\n",
            " 8   LightActiveDistance       940 non-null    float64\n",
            " 9   SedentaryActiveDistance   940 non-null    float64\n",
            " 10  VeryActiveMinutes         940 non-null    int64  \n",
            " 11  FairlyActiveMinutes       940 non-null    int64  \n",
            " 12  LightlyActiveMinutes      940 non-null    int64  \n",
            " 13  SedentaryMinutes          940 non-null    int64  \n",
            " 14  Calories                  940 non-null    int64  \n",
            "dtypes: float64(7), int64(7), object(1)\n",
            "memory usage: 110.3+ KB\n"
          ]
        }
      ],
      "source": [
        "# Look at the information of data\n",
        "daily_activity.info()\n"
      ]
    },
    {
      "cell_type": "code",
      "execution_count": 5,
      "id": "880b3dcb",
      "metadata": {
        "colab": {
          "base_uri": "https://localhost:8080/"
        },
        "id": "880b3dcb",
        "outputId": "7c22f7b2-0c98-4893-80c0-093ffdf8ca30"
      },
      "outputs": [
        {
          "output_type": "stream",
          "name": "stdout",
          "text": [
            "Id                          0\n",
            "ActivityDate                0\n",
            "TotalSteps                  0\n",
            "TotalDistance               0\n",
            "TrackerDistance             0\n",
            "LoggedActivitiesDistance    0\n",
            "VeryActiveDistance          0\n",
            "ModeratelyActiveDistance    0\n",
            "LightActiveDistance         0\n",
            "SedentaryActiveDistance     0\n",
            "VeryActiveMinutes           0\n",
            "FairlyActiveMinutes         0\n",
            "LightlyActiveMinutes        0\n",
            "SedentaryMinutes            0\n",
            "Calories                    0\n",
            "dtype: int64\n"
          ]
        }
      ],
      "source": [
        "# Check for null and missing values\n",
        "missing_values = daily_activity.isnull().sum()\n",
        "print(missing_values)\n"
      ]
    },
    {
      "cell_type": "code",
      "execution_count": 6,
      "id": "e6fb93dc",
      "metadata": {
        "colab": {
          "base_uri": "https://localhost:8080/"
        },
        "id": "e6fb93dc",
        "outputId": "bb951dcc-f6af-4a0f-e271-3dfe150e6aae"
      },
      "outputs": [
        {
          "output_type": "stream",
          "name": "stdout",
          "text": [
            "33\n"
          ]
        }
      ],
      "source": [
        "# Make sure dataset has 30 different IDs\n",
        "unique_values = len(pd.unique(daily_activity['Id']))\n",
        "print(unique_values)\n"
      ]
    },
    {
      "cell_type": "markdown",
      "id": "6110620b",
      "metadata": {
        "id": "6110620b"
      },
      "source": [
        "#### After checking the data\n",
        "* Tidak ada nilai null atau hilang\n",
        "* _ActivityDate_ adalah tipe data objek, sehingga harus dikonversi ke datetime\n",
        "* Terdapat 940 baris dan 14 kolom\n",
        "* Dataset berisi 33 Id unik tetapi seharusnya hanya berisi 30"
      ]
    },
    {
      "cell_type": "markdown",
      "id": "cba2393d",
      "metadata": {
        "id": "cba2393d"
      },
      "source": [
        "#### Transforming data\n",
        "* Ubah _ActivityDate_ menjadi tipe data datetime\n",
        "* Ubah format _ActivityDate_ menjadi yyyy-mm-dd\n",
        "* Buat kolom Hari Kerja untuk analisis yang lebih mudah\n",
        "* Buat kolom _TotalMinutes_ dengan menambahkan kolom Menit Kegiatan bersama-sama\n",
        "* Ganti nama kolom"
      ]
    },
    {
      "cell_type": "code",
      "execution_count": 7,
      "id": "a340f264",
      "metadata": {
        "colab": {
          "base_uri": "https://localhost:8080/",
          "height": 652
        },
        "id": "a340f264",
        "outputId": "e9e8be90-a29c-4d0e-a0d7-75cd787ebc97"
      },
      "outputs": [
        {
          "output_type": "stream",
          "name": "stdout",
          "text": [
            "<class 'pandas.core.frame.DataFrame'>\n",
            "RangeIndex: 940 entries, 0 to 939\n",
            "Data columns (total 15 columns):\n",
            " #   Column                    Non-Null Count  Dtype         \n",
            "---  ------                    --------------  -----         \n",
            " 0   Id                        940 non-null    int64         \n",
            " 1   ActivityDate              940 non-null    datetime64[ns]\n",
            " 2   TotalSteps                940 non-null    int64         \n",
            " 3   TotalDistance             940 non-null    float64       \n",
            " 4   TrackerDistance           940 non-null    float64       \n",
            " 5   LoggedActivitiesDistance  940 non-null    float64       \n",
            " 6   VeryActiveDistance        940 non-null    float64       \n",
            " 7   ModeratelyActiveDistance  940 non-null    float64       \n",
            " 8   LightActiveDistance       940 non-null    float64       \n",
            " 9   SedentaryActiveDistance   940 non-null    float64       \n",
            " 10  VeryActiveMinutes         940 non-null    int64         \n",
            " 11  FairlyActiveMinutes       940 non-null    int64         \n",
            " 12  LightlyActiveMinutes      940 non-null    int64         \n",
            " 13  SedentaryMinutes          940 non-null    int64         \n",
            " 14  Calories                  940 non-null    int64         \n",
            "dtypes: datetime64[ns](1), float64(7), int64(7)\n",
            "memory usage: 110.3 KB\n"
          ]
        },
        {
          "output_type": "execute_result",
          "data": {
            "text/plain": [
              "           Id ActivityDate  TotalSteps  TotalDistance  TrackerDistance  \\\n",
              "0  1503960366   2016-04-12       13162           8.50             8.50   \n",
              "1  1503960366   2016-04-13       10735           6.97             6.97   \n",
              "2  1503960366   2016-04-14       10460           6.74             6.74   \n",
              "3  1503960366   2016-04-15        9762           6.28             6.28   \n",
              "4  1503960366   2016-04-16       12669           8.16             8.16   \n",
              "\n",
              "   LoggedActivitiesDistance  VeryActiveDistance  ModeratelyActiveDistance  \\\n",
              "0                       0.0                1.88                      0.55   \n",
              "1                       0.0                1.57                      0.69   \n",
              "2                       0.0                2.44                      0.40   \n",
              "3                       0.0                2.14                      1.26   \n",
              "4                       0.0                2.71                      0.41   \n",
              "\n",
              "   LightActiveDistance  SedentaryActiveDistance  VeryActiveMinutes  \\\n",
              "0                 6.06                      0.0                 25   \n",
              "1                 4.71                      0.0                 21   \n",
              "2                 3.91                      0.0                 30   \n",
              "3                 2.83                      0.0                 29   \n",
              "4                 5.04                      0.0                 36   \n",
              "\n",
              "   FairlyActiveMinutes  LightlyActiveMinutes  SedentaryMinutes  Calories  \n",
              "0                   13                   328               728      1985  \n",
              "1                   19                   217               776      1797  \n",
              "2                   11                   181              1218      1776  \n",
              "3                   34                   209               726      1745  \n",
              "4                   10                   221               773      1863  "
            ],
            "text/html": [
              "\n",
              "  <div id=\"df-5411dd5c-5189-46a5-97c0-95da20b79506\">\n",
              "    <div class=\"colab-df-container\">\n",
              "      <div>\n",
              "<style scoped>\n",
              "    .dataframe tbody tr th:only-of-type {\n",
              "        vertical-align: middle;\n",
              "    }\n",
              "\n",
              "    .dataframe tbody tr th {\n",
              "        vertical-align: top;\n",
              "    }\n",
              "\n",
              "    .dataframe thead th {\n",
              "        text-align: right;\n",
              "    }\n",
              "</style>\n",
              "<table border=\"1\" class=\"dataframe\">\n",
              "  <thead>\n",
              "    <tr style=\"text-align: right;\">\n",
              "      <th></th>\n",
              "      <th>Id</th>\n",
              "      <th>ActivityDate</th>\n",
              "      <th>TotalSteps</th>\n",
              "      <th>TotalDistance</th>\n",
              "      <th>TrackerDistance</th>\n",
              "      <th>LoggedActivitiesDistance</th>\n",
              "      <th>VeryActiveDistance</th>\n",
              "      <th>ModeratelyActiveDistance</th>\n",
              "      <th>LightActiveDistance</th>\n",
              "      <th>SedentaryActiveDistance</th>\n",
              "      <th>VeryActiveMinutes</th>\n",
              "      <th>FairlyActiveMinutes</th>\n",
              "      <th>LightlyActiveMinutes</th>\n",
              "      <th>SedentaryMinutes</th>\n",
              "      <th>Calories</th>\n",
              "    </tr>\n",
              "  </thead>\n",
              "  <tbody>\n",
              "    <tr>\n",
              "      <th>0</th>\n",
              "      <td>1503960366</td>\n",
              "      <td>2016-04-12</td>\n",
              "      <td>13162</td>\n",
              "      <td>8.50</td>\n",
              "      <td>8.50</td>\n",
              "      <td>0.0</td>\n",
              "      <td>1.88</td>\n",
              "      <td>0.55</td>\n",
              "      <td>6.06</td>\n",
              "      <td>0.0</td>\n",
              "      <td>25</td>\n",
              "      <td>13</td>\n",
              "      <td>328</td>\n",
              "      <td>728</td>\n",
              "      <td>1985</td>\n",
              "    </tr>\n",
              "    <tr>\n",
              "      <th>1</th>\n",
              "      <td>1503960366</td>\n",
              "      <td>2016-04-13</td>\n",
              "      <td>10735</td>\n",
              "      <td>6.97</td>\n",
              "      <td>6.97</td>\n",
              "      <td>0.0</td>\n",
              "      <td>1.57</td>\n",
              "      <td>0.69</td>\n",
              "      <td>4.71</td>\n",
              "      <td>0.0</td>\n",
              "      <td>21</td>\n",
              "      <td>19</td>\n",
              "      <td>217</td>\n",
              "      <td>776</td>\n",
              "      <td>1797</td>\n",
              "    </tr>\n",
              "    <tr>\n",
              "      <th>2</th>\n",
              "      <td>1503960366</td>\n",
              "      <td>2016-04-14</td>\n",
              "      <td>10460</td>\n",
              "      <td>6.74</td>\n",
              "      <td>6.74</td>\n",
              "      <td>0.0</td>\n",
              "      <td>2.44</td>\n",
              "      <td>0.40</td>\n",
              "      <td>3.91</td>\n",
              "      <td>0.0</td>\n",
              "      <td>30</td>\n",
              "      <td>11</td>\n",
              "      <td>181</td>\n",
              "      <td>1218</td>\n",
              "      <td>1776</td>\n",
              "    </tr>\n",
              "    <tr>\n",
              "      <th>3</th>\n",
              "      <td>1503960366</td>\n",
              "      <td>2016-04-15</td>\n",
              "      <td>9762</td>\n",
              "      <td>6.28</td>\n",
              "      <td>6.28</td>\n",
              "      <td>0.0</td>\n",
              "      <td>2.14</td>\n",
              "      <td>1.26</td>\n",
              "      <td>2.83</td>\n",
              "      <td>0.0</td>\n",
              "      <td>29</td>\n",
              "      <td>34</td>\n",
              "      <td>209</td>\n",
              "      <td>726</td>\n",
              "      <td>1745</td>\n",
              "    </tr>\n",
              "    <tr>\n",
              "      <th>4</th>\n",
              "      <td>1503960366</td>\n",
              "      <td>2016-04-16</td>\n",
              "      <td>12669</td>\n",
              "      <td>8.16</td>\n",
              "      <td>8.16</td>\n",
              "      <td>0.0</td>\n",
              "      <td>2.71</td>\n",
              "      <td>0.41</td>\n",
              "      <td>5.04</td>\n",
              "      <td>0.0</td>\n",
              "      <td>36</td>\n",
              "      <td>10</td>\n",
              "      <td>221</td>\n",
              "      <td>773</td>\n",
              "      <td>1863</td>\n",
              "    </tr>\n",
              "  </tbody>\n",
              "</table>\n",
              "</div>\n",
              "      <button class=\"colab-df-convert\" onclick=\"convertToInteractive('df-5411dd5c-5189-46a5-97c0-95da20b79506')\"\n",
              "              title=\"Convert this dataframe to an interactive table.\"\n",
              "              style=\"display:none;\">\n",
              "        \n",
              "  <svg xmlns=\"http://www.w3.org/2000/svg\" height=\"24px\"viewBox=\"0 0 24 24\"\n",
              "       width=\"24px\">\n",
              "    <path d=\"M0 0h24v24H0V0z\" fill=\"none\"/>\n",
              "    <path d=\"M18.56 5.44l.94 2.06.94-2.06 2.06-.94-2.06-.94-.94-2.06-.94 2.06-2.06.94zm-11 1L8.5 8.5l.94-2.06 2.06-.94-2.06-.94L8.5 2.5l-.94 2.06-2.06.94zm10 10l.94 2.06.94-2.06 2.06-.94-2.06-.94-.94-2.06-.94 2.06-2.06.94z\"/><path d=\"M17.41 7.96l-1.37-1.37c-.4-.4-.92-.59-1.43-.59-.52 0-1.04.2-1.43.59L10.3 9.45l-7.72 7.72c-.78.78-.78 2.05 0 2.83L4 21.41c.39.39.9.59 1.41.59.51 0 1.02-.2 1.41-.59l7.78-7.78 2.81-2.81c.8-.78.8-2.07 0-2.86zM5.41 20L4 18.59l7.72-7.72 1.47 1.35L5.41 20z\"/>\n",
              "  </svg>\n",
              "      </button>\n",
              "      \n",
              "  <style>\n",
              "    .colab-df-container {\n",
              "      display:flex;\n",
              "      flex-wrap:wrap;\n",
              "      gap: 12px;\n",
              "    }\n",
              "\n",
              "    .colab-df-convert {\n",
              "      background-color: #E8F0FE;\n",
              "      border: none;\n",
              "      border-radius: 50%;\n",
              "      cursor: pointer;\n",
              "      display: none;\n",
              "      fill: #1967D2;\n",
              "      height: 32px;\n",
              "      padding: 0 0 0 0;\n",
              "      width: 32px;\n",
              "    }\n",
              "\n",
              "    .colab-df-convert:hover {\n",
              "      background-color: #E2EBFA;\n",
              "      box-shadow: 0px 1px 2px rgba(60, 64, 67, 0.3), 0px 1px 3px 1px rgba(60, 64, 67, 0.15);\n",
              "      fill: #174EA6;\n",
              "    }\n",
              "\n",
              "    [theme=dark] .colab-df-convert {\n",
              "      background-color: #3B4455;\n",
              "      fill: #D2E3FC;\n",
              "    }\n",
              "\n",
              "    [theme=dark] .colab-df-convert:hover {\n",
              "      background-color: #434B5C;\n",
              "      box-shadow: 0px 1px 3px 1px rgba(0, 0, 0, 0.15);\n",
              "      filter: drop-shadow(0px 1px 2px rgba(0, 0, 0, 0.3));\n",
              "      fill: #FFFFFF;\n",
              "    }\n",
              "  </style>\n",
              "\n",
              "      <script>\n",
              "        const buttonEl =\n",
              "          document.querySelector('#df-5411dd5c-5189-46a5-97c0-95da20b79506 button.colab-df-convert');\n",
              "        buttonEl.style.display =\n",
              "          google.colab.kernel.accessAllowed ? 'block' : 'none';\n",
              "\n",
              "        async function convertToInteractive(key) {\n",
              "          const element = document.querySelector('#df-5411dd5c-5189-46a5-97c0-95da20b79506');\n",
              "          const dataTable =\n",
              "            await google.colab.kernel.invokeFunction('convertToInteractive',\n",
              "                                                     [key], {});\n",
              "          if (!dataTable) return;\n",
              "\n",
              "          const docLinkHtml = 'Like what you see? Visit the ' +\n",
              "            '<a target=\"_blank\" href=https://colab.research.google.com/notebooks/data_table.ipynb>data table notebook</a>'\n",
              "            + ' to learn more about interactive tables.';\n",
              "          element.innerHTML = '';\n",
              "          dataTable['output_type'] = 'display_data';\n",
              "          await google.colab.output.renderOutput(dataTable, element);\n",
              "          const docLink = document.createElement('div');\n",
              "          docLink.innerHTML = docLinkHtml;\n",
              "          element.appendChild(docLink);\n",
              "        }\n",
              "      </script>\n",
              "    </div>\n",
              "  </div>\n",
              "  "
            ]
          },
          "metadata": {},
          "execution_count": 7
        }
      ],
      "source": [
        "# Change ActivityDate to datetime64 data type\n",
        "daily_activity[\"ActivityDate\"]  = pd.to_datetime(daily_activity[\"ActivityDate\"], format = \"%m/%d/%Y\")\n",
        "\n",
        "# Look at information\n",
        "daily_activity.info()\n",
        "\n",
        "# Get an overview of the data\n",
        "daily_activity.head()\n"
      ]
    },
    {
      "cell_type": "code",
      "execution_count": 8,
      "id": "6d34348a",
      "metadata": {
        "colab": {
          "base_uri": "https://localhost:8080/",
          "height": 270
        },
        "id": "6d34348a",
        "outputId": "6eddebfb-59c8-447b-a6c6-076f52d19203"
      },
      "outputs": [
        {
          "output_type": "execute_result",
          "data": {
            "text/plain": [
              "           Id ActivityDate  WeekDay  TotalSteps  TotalDistance  \\\n",
              "0  1503960366   2016-04-12      NaN       13162           8.50   \n",
              "1  1503960366   2016-04-13      NaN       10735           6.97   \n",
              "2  1503960366   2016-04-14      NaN       10460           6.74   \n",
              "3  1503960366   2016-04-15      NaN        9762           6.28   \n",
              "4  1503960366   2016-04-16      NaN       12669           8.16   \n",
              "\n",
              "   TrackerDistance  LoggedActivitiesDistance  VeryActiveDistance  \\\n",
              "0             8.50                       0.0                1.88   \n",
              "1             6.97                       0.0                1.57   \n",
              "2             6.74                       0.0                2.44   \n",
              "3             6.28                       0.0                2.14   \n",
              "4             8.16                       0.0                2.71   \n",
              "\n",
              "   ModeratelyActiveDistance  LightActiveDistance  SedentaryActiveDistance  \\\n",
              "0                      0.55                 6.06                      0.0   \n",
              "1                      0.69                 4.71                      0.0   \n",
              "2                      0.40                 3.91                      0.0   \n",
              "3                      1.26                 2.83                      0.0   \n",
              "4                      0.41                 5.04                      0.0   \n",
              "\n",
              "   VeryActiveMinutes  FairlyActiveMinutes  LightlyActiveMinutes  \\\n",
              "0                 25                   13                   328   \n",
              "1                 21                   19                   217   \n",
              "2                 30                   11                   181   \n",
              "3                 29                   34                   209   \n",
              "4                 36                   10                   221   \n",
              "\n",
              "   SedentaryMinutes  Calories  \n",
              "0               728      1985  \n",
              "1               776      1797  \n",
              "2              1218      1776  \n",
              "3               726      1745  \n",
              "4               773      1863  "
            ],
            "text/html": [
              "\n",
              "  <div id=\"df-2359f28d-5707-4aec-98af-e1029ff96167\">\n",
              "    <div class=\"colab-df-container\">\n",
              "      <div>\n",
              "<style scoped>\n",
              "    .dataframe tbody tr th:only-of-type {\n",
              "        vertical-align: middle;\n",
              "    }\n",
              "\n",
              "    .dataframe tbody tr th {\n",
              "        vertical-align: top;\n",
              "    }\n",
              "\n",
              "    .dataframe thead th {\n",
              "        text-align: right;\n",
              "    }\n",
              "</style>\n",
              "<table border=\"1\" class=\"dataframe\">\n",
              "  <thead>\n",
              "    <tr style=\"text-align: right;\">\n",
              "      <th></th>\n",
              "      <th>Id</th>\n",
              "      <th>ActivityDate</th>\n",
              "      <th>WeekDay</th>\n",
              "      <th>TotalSteps</th>\n",
              "      <th>TotalDistance</th>\n",
              "      <th>TrackerDistance</th>\n",
              "      <th>LoggedActivitiesDistance</th>\n",
              "      <th>VeryActiveDistance</th>\n",
              "      <th>ModeratelyActiveDistance</th>\n",
              "      <th>LightActiveDistance</th>\n",
              "      <th>SedentaryActiveDistance</th>\n",
              "      <th>VeryActiveMinutes</th>\n",
              "      <th>FairlyActiveMinutes</th>\n",
              "      <th>LightlyActiveMinutes</th>\n",
              "      <th>SedentaryMinutes</th>\n",
              "      <th>Calories</th>\n",
              "    </tr>\n",
              "  </thead>\n",
              "  <tbody>\n",
              "    <tr>\n",
              "      <th>0</th>\n",
              "      <td>1503960366</td>\n",
              "      <td>2016-04-12</td>\n",
              "      <td>NaN</td>\n",
              "      <td>13162</td>\n",
              "      <td>8.50</td>\n",
              "      <td>8.50</td>\n",
              "      <td>0.0</td>\n",
              "      <td>1.88</td>\n",
              "      <td>0.55</td>\n",
              "      <td>6.06</td>\n",
              "      <td>0.0</td>\n",
              "      <td>25</td>\n",
              "      <td>13</td>\n",
              "      <td>328</td>\n",
              "      <td>728</td>\n",
              "      <td>1985</td>\n",
              "    </tr>\n",
              "    <tr>\n",
              "      <th>1</th>\n",
              "      <td>1503960366</td>\n",
              "      <td>2016-04-13</td>\n",
              "      <td>NaN</td>\n",
              "      <td>10735</td>\n",
              "      <td>6.97</td>\n",
              "      <td>6.97</td>\n",
              "      <td>0.0</td>\n",
              "      <td>1.57</td>\n",
              "      <td>0.69</td>\n",
              "      <td>4.71</td>\n",
              "      <td>0.0</td>\n",
              "      <td>21</td>\n",
              "      <td>19</td>\n",
              "      <td>217</td>\n",
              "      <td>776</td>\n",
              "      <td>1797</td>\n",
              "    </tr>\n",
              "    <tr>\n",
              "      <th>2</th>\n",
              "      <td>1503960366</td>\n",
              "      <td>2016-04-14</td>\n",
              "      <td>NaN</td>\n",
              "      <td>10460</td>\n",
              "      <td>6.74</td>\n",
              "      <td>6.74</td>\n",
              "      <td>0.0</td>\n",
              "      <td>2.44</td>\n",
              "      <td>0.40</td>\n",
              "      <td>3.91</td>\n",
              "      <td>0.0</td>\n",
              "      <td>30</td>\n",
              "      <td>11</td>\n",
              "      <td>181</td>\n",
              "      <td>1218</td>\n",
              "      <td>1776</td>\n",
              "    </tr>\n",
              "    <tr>\n",
              "      <th>3</th>\n",
              "      <td>1503960366</td>\n",
              "      <td>2016-04-15</td>\n",
              "      <td>NaN</td>\n",
              "      <td>9762</td>\n",
              "      <td>6.28</td>\n",
              "      <td>6.28</td>\n",
              "      <td>0.0</td>\n",
              "      <td>2.14</td>\n",
              "      <td>1.26</td>\n",
              "      <td>2.83</td>\n",
              "      <td>0.0</td>\n",
              "      <td>29</td>\n",
              "      <td>34</td>\n",
              "      <td>209</td>\n",
              "      <td>726</td>\n",
              "      <td>1745</td>\n",
              "    </tr>\n",
              "    <tr>\n",
              "      <th>4</th>\n",
              "      <td>1503960366</td>\n",
              "      <td>2016-04-16</td>\n",
              "      <td>NaN</td>\n",
              "      <td>12669</td>\n",
              "      <td>8.16</td>\n",
              "      <td>8.16</td>\n",
              "      <td>0.0</td>\n",
              "      <td>2.71</td>\n",
              "      <td>0.41</td>\n",
              "      <td>5.04</td>\n",
              "      <td>0.0</td>\n",
              "      <td>36</td>\n",
              "      <td>10</td>\n",
              "      <td>221</td>\n",
              "      <td>773</td>\n",
              "      <td>1863</td>\n",
              "    </tr>\n",
              "  </tbody>\n",
              "</table>\n",
              "</div>\n",
              "      <button class=\"colab-df-convert\" onclick=\"convertToInteractive('df-2359f28d-5707-4aec-98af-e1029ff96167')\"\n",
              "              title=\"Convert this dataframe to an interactive table.\"\n",
              "              style=\"display:none;\">\n",
              "        \n",
              "  <svg xmlns=\"http://www.w3.org/2000/svg\" height=\"24px\"viewBox=\"0 0 24 24\"\n",
              "       width=\"24px\">\n",
              "    <path d=\"M0 0h24v24H0V0z\" fill=\"none\"/>\n",
              "    <path d=\"M18.56 5.44l.94 2.06.94-2.06 2.06-.94-2.06-.94-.94-2.06-.94 2.06-2.06.94zm-11 1L8.5 8.5l.94-2.06 2.06-.94-2.06-.94L8.5 2.5l-.94 2.06-2.06.94zm10 10l.94 2.06.94-2.06 2.06-.94-2.06-.94-.94-2.06-.94 2.06-2.06.94z\"/><path d=\"M17.41 7.96l-1.37-1.37c-.4-.4-.92-.59-1.43-.59-.52 0-1.04.2-1.43.59L10.3 9.45l-7.72 7.72c-.78.78-.78 2.05 0 2.83L4 21.41c.39.39.9.59 1.41.59.51 0 1.02-.2 1.41-.59l7.78-7.78 2.81-2.81c.8-.78.8-2.07 0-2.86zM5.41 20L4 18.59l7.72-7.72 1.47 1.35L5.41 20z\"/>\n",
              "  </svg>\n",
              "      </button>\n",
              "      \n",
              "  <style>\n",
              "    .colab-df-container {\n",
              "      display:flex;\n",
              "      flex-wrap:wrap;\n",
              "      gap: 12px;\n",
              "    }\n",
              "\n",
              "    .colab-df-convert {\n",
              "      background-color: #E8F0FE;\n",
              "      border: none;\n",
              "      border-radius: 50%;\n",
              "      cursor: pointer;\n",
              "      display: none;\n",
              "      fill: #1967D2;\n",
              "      height: 32px;\n",
              "      padding: 0 0 0 0;\n",
              "      width: 32px;\n",
              "    }\n",
              "\n",
              "    .colab-df-convert:hover {\n",
              "      background-color: #E2EBFA;\n",
              "      box-shadow: 0px 1px 2px rgba(60, 64, 67, 0.3), 0px 1px 3px 1px rgba(60, 64, 67, 0.15);\n",
              "      fill: #174EA6;\n",
              "    }\n",
              "\n",
              "    [theme=dark] .colab-df-convert {\n",
              "      background-color: #3B4455;\n",
              "      fill: #D2E3FC;\n",
              "    }\n",
              "\n",
              "    [theme=dark] .colab-df-convert:hover {\n",
              "      background-color: #434B5C;\n",
              "      box-shadow: 0px 1px 3px 1px rgba(0, 0, 0, 0.15);\n",
              "      filter: drop-shadow(0px 1px 2px rgba(0, 0, 0, 0.3));\n",
              "      fill: #FFFFFF;\n",
              "    }\n",
              "  </style>\n",
              "\n",
              "      <script>\n",
              "        const buttonEl =\n",
              "          document.querySelector('#df-2359f28d-5707-4aec-98af-e1029ff96167 button.colab-df-convert');\n",
              "        buttonEl.style.display =\n",
              "          google.colab.kernel.accessAllowed ? 'block' : 'none';\n",
              "\n",
              "        async function convertToInteractive(key) {\n",
              "          const element = document.querySelector('#df-2359f28d-5707-4aec-98af-e1029ff96167');\n",
              "          const dataTable =\n",
              "            await google.colab.kernel.invokeFunction('convertToInteractive',\n",
              "                                                     [key], {});\n",
              "          if (!dataTable) return;\n",
              "\n",
              "          const docLinkHtml = 'Like what you see? Visit the ' +\n",
              "            '<a target=\"_blank\" href=https://colab.research.google.com/notebooks/data_table.ipynb>data table notebook</a>'\n",
              "            + ' to learn more about interactive tables.';\n",
              "          element.innerHTML = '';\n",
              "          dataTable['output_type'] = 'display_data';\n",
              "          await google.colab.output.renderOutput(dataTable, element);\n",
              "          const docLink = document.createElement('div');\n",
              "          docLink.innerHTML = docLinkHtml;\n",
              "          element.appendChild(docLink);\n",
              "        }\n",
              "      </script>\n",
              "    </div>\n",
              "  </div>\n",
              "  "
            ]
          },
          "metadata": {},
          "execution_count": 8
        }
      ],
      "source": [
        "# Rename daily_activity to df_activity\n",
        "new_cols = ['Id', 'ActivityDate', 'WeekDay','TotalSteps', 'TotalDistance',\n",
        "                'TrackerDistance', 'LoggedActivitiesDistance', 'VeryActiveDistance', 'ModeratelyActiveDistance', 'LightActiveDistance','SedentaryActiveDistance','VeryActiveMinutes', 'FairlyActiveMinutes', 'LightlyActiveMinutes','SedentaryMinutes','Calories']\n",
        "\n",
        "df_activity = daily_activity.reindex(columns=new_cols)\n",
        "\n",
        "# Make sure the new column was added\n",
        "df_activity.head()"
      ]
    },
    {
      "cell_type": "markdown",
      "id": "06b19d6e",
      "metadata": {
        "id": "06b19d6e"
      },
      "source": [
        "#### Create _WeekDay_ column for easier analysis"
      ]
    },
    {
      "cell_type": "code",
      "execution_count": 9,
      "id": "fdbdd34c",
      "metadata": {
        "colab": {
          "base_uri": "https://localhost:8080/"
        },
        "id": "fdbdd34c",
        "outputId": "8b6efef8-6031-4e9e-dee6-3cb070b9ee7b"
      },
      "outputs": [
        {
          "output_type": "execute_result",
          "data": {
            "text/plain": [
              "0      Tuesday\n",
              "1    Wednesday\n",
              "2     Thursday\n",
              "3       Friday\n",
              "4     Saturday\n",
              "5       Sunday\n",
              "6       Monday\n",
              "Name: WeekDay, dtype: object"
            ]
          },
          "metadata": {},
          "execution_count": 9
        }
      ],
      "source": [
        "# Add a WeekDay column \n",
        "df_activity[\"WeekDay\"] = df_activity[\"ActivityDate\"].dt.day_name()\n",
        "\n",
        "# Check to make sure the week days were added\n",
        "df_activity[\"WeekDay\"].head(7)\n"
      ]
    },
    {
      "cell_type": "markdown",
      "id": "3e3fb790",
      "metadata": {
        "id": "3e3fb790"
      },
      "source": [
        "#### Create _TotalMinutes_ column"
      ]
    },
    {
      "cell_type": "code",
      "execution_count": 10,
      "id": "28947175",
      "metadata": {
        "colab": {
          "base_uri": "https://localhost:8080/"
        },
        "id": "28947175",
        "outputId": "598f7876-63dc-4a77-fde0-656788ef527f"
      },
      "outputs": [
        {
          "output_type": "execute_result",
          "data": {
            "text/plain": [
              "0    1094\n",
              "1    1033\n",
              "2    1440\n",
              "3     998\n",
              "4    1040\n",
              "Name: TotalMinutes, dtype: int64"
            ]
          },
          "metadata": {},
          "execution_count": 10
        }
      ],
      "source": [
        "# Create new column TotalMinutes by adding activity minutes\n",
        "df_activity[\"TotalMinutes\"] = df_activity[\"VeryActiveMinutes\"] + df_activity[\"FairlyActiveMinutes\"] + df_activity[\"LightlyActiveMinutes\"] + df_activity[\"SedentaryMinutes\"]\n",
        "df_activity[\"TotalMinutes\"].head()"
      ]
    },
    {
      "cell_type": "markdown",
      "id": "d040d72a",
      "metadata": {
        "id": "d040d72a"
      },
      "source": [
        "#### Create _TotalHours_ column for easier analysis"
      ]
    },
    {
      "cell_type": "code",
      "execution_count": 11,
      "id": "0975a506",
      "metadata": {
        "colab": {
          "base_uri": "https://localhost:8080/"
        },
        "id": "0975a506",
        "outputId": "01ef7281-2f64-4388-8c7a-6ac28c3f9a38"
      },
      "outputs": [
        {
          "output_type": "execute_result",
          "data": {
            "text/plain": [
              "0    18.0\n",
              "1    17.0\n",
              "2    24.0\n",
              "3    17.0\n",
              "4    17.0\n",
              "Name: TotalHours, dtype: float64"
            ]
          },
          "metadata": {},
          "execution_count": 11
        }
      ],
      "source": [
        "# Create new column TotalHours by converting TotalMinutes column\n",
        "df_activity[\"TotalHours\"] = round(df_activity[\"TotalMinutes\"] / 60)\n",
        "df_activity[\"TotalHours\"].head()\n"
      ]
    },
    {
      "cell_type": "markdown",
      "id": "6bf2ce40",
      "metadata": {
        "id": "6bf2ce40"
      },
      "source": [
        "#### Data is now ready to be analyze"
      ]
    },
    {
      "cell_type": "markdown",
      "id": "175a981c",
      "metadata": {
        "id": "175a981c"
      },
      "source": [
        "## Tahap 4: ANALYZE"
      ]
    },
    {
      "cell_type": "markdown",
      "id": "5f6753ae",
      "metadata": {
        "id": "5f6753ae"
      },
      "source": [
        "#### 4.1 Statistics\n",
        "Melihat nilai statistik dari df untuk analisis\n",
        "* mean\n",
        "* standard deviation\n",
        "* minimun and maxium\n",
        "* percentiles\n",
        "* count"
      ]
    },
    {
      "cell_type": "code",
      "execution_count": 12,
      "id": "e4ad85c0",
      "metadata": {
        "colab": {
          "base_uri": "https://localhost:8080/",
          "height": 364
        },
        "id": "e4ad85c0",
        "outputId": "5cdfc42a-8c30-42b9-aff5-1f803ea7e622"
      },
      "outputs": [
        {
          "output_type": "execute_result",
          "data": {
            "text/plain": [
              "                 Id    TotalSteps  TotalDistance  TrackerDistance  \\\n",
              "count  9.400000e+02    940.000000     940.000000       940.000000   \n",
              "mean   4.855407e+09   7637.910638       5.489702         5.475351   \n",
              "std    2.424805e+09   5087.150742       3.924606         3.907276   \n",
              "min    1.503960e+09      0.000000       0.000000         0.000000   \n",
              "25%    2.320127e+09   3789.750000       2.620000         2.620000   \n",
              "50%    4.445115e+09   7405.500000       5.245000         5.245000   \n",
              "75%    6.962181e+09  10727.000000       7.712500         7.710000   \n",
              "max    8.877689e+09  36019.000000      28.030001        28.030001   \n",
              "\n",
              "       LoggedActivitiesDistance  VeryActiveDistance  ModeratelyActiveDistance  \\\n",
              "count                940.000000          940.000000                940.000000   \n",
              "mean                   0.108171            1.502681                  0.567543   \n",
              "std                    0.619897            2.658941                  0.883580   \n",
              "min                    0.000000            0.000000                  0.000000   \n",
              "25%                    0.000000            0.000000                  0.000000   \n",
              "50%                    0.000000            0.210000                  0.240000   \n",
              "75%                    0.000000            2.052500                  0.800000   \n",
              "max                    4.942142           21.920000                  6.480000   \n",
              "\n",
              "       LightActiveDistance  SedentaryActiveDistance  VeryActiveMinutes  \\\n",
              "count           940.000000               940.000000         940.000000   \n",
              "mean              3.340819                 0.001606          21.164894   \n",
              "std               2.040655                 0.007346          32.844803   \n",
              "min               0.000000                 0.000000           0.000000   \n",
              "25%               1.945000                 0.000000           0.000000   \n",
              "50%               3.365000                 0.000000           4.000000   \n",
              "75%               4.782500                 0.000000          32.000000   \n",
              "max              10.710000                 0.110000         210.000000   \n",
              "\n",
              "       FairlyActiveMinutes  LightlyActiveMinutes  SedentaryMinutes  \\\n",
              "count           940.000000            940.000000        940.000000   \n",
              "mean             13.564894            192.812766        991.210638   \n",
              "std              19.987404            109.174700        301.267437   \n",
              "min               0.000000              0.000000          0.000000   \n",
              "25%               0.000000            127.000000        729.750000   \n",
              "50%               6.000000            199.000000       1057.500000   \n",
              "75%              19.000000            264.000000       1229.500000   \n",
              "max             143.000000            518.000000       1440.000000   \n",
              "\n",
              "          Calories  TotalMinutes  TotalHours  \n",
              "count   940.000000    940.000000  940.000000  \n",
              "mean   2303.609574   1218.753191   20.313830  \n",
              "std     718.166862    265.931767    4.437283  \n",
              "min       0.000000      2.000000    0.000000  \n",
              "25%    1828.500000    989.750000   16.000000  \n",
              "50%    2134.000000   1440.000000   24.000000  \n",
              "75%    2793.250000   1440.000000   24.000000  \n",
              "max    4900.000000   1440.000000   24.000000  "
            ],
            "text/html": [
              "\n",
              "  <div id=\"df-41bb3691-2a96-4cc6-b4f9-68d941fa06c0\">\n",
              "    <div class=\"colab-df-container\">\n",
              "      <div>\n",
              "<style scoped>\n",
              "    .dataframe tbody tr th:only-of-type {\n",
              "        vertical-align: middle;\n",
              "    }\n",
              "\n",
              "    .dataframe tbody tr th {\n",
              "        vertical-align: top;\n",
              "    }\n",
              "\n",
              "    .dataframe thead th {\n",
              "        text-align: right;\n",
              "    }\n",
              "</style>\n",
              "<table border=\"1\" class=\"dataframe\">\n",
              "  <thead>\n",
              "    <tr style=\"text-align: right;\">\n",
              "      <th></th>\n",
              "      <th>Id</th>\n",
              "      <th>TotalSteps</th>\n",
              "      <th>TotalDistance</th>\n",
              "      <th>TrackerDistance</th>\n",
              "      <th>LoggedActivitiesDistance</th>\n",
              "      <th>VeryActiveDistance</th>\n",
              "      <th>ModeratelyActiveDistance</th>\n",
              "      <th>LightActiveDistance</th>\n",
              "      <th>SedentaryActiveDistance</th>\n",
              "      <th>VeryActiveMinutes</th>\n",
              "      <th>FairlyActiveMinutes</th>\n",
              "      <th>LightlyActiveMinutes</th>\n",
              "      <th>SedentaryMinutes</th>\n",
              "      <th>Calories</th>\n",
              "      <th>TotalMinutes</th>\n",
              "      <th>TotalHours</th>\n",
              "    </tr>\n",
              "  </thead>\n",
              "  <tbody>\n",
              "    <tr>\n",
              "      <th>count</th>\n",
              "      <td>9.400000e+02</td>\n",
              "      <td>940.000000</td>\n",
              "      <td>940.000000</td>\n",
              "      <td>940.000000</td>\n",
              "      <td>940.000000</td>\n",
              "      <td>940.000000</td>\n",
              "      <td>940.000000</td>\n",
              "      <td>940.000000</td>\n",
              "      <td>940.000000</td>\n",
              "      <td>940.000000</td>\n",
              "      <td>940.000000</td>\n",
              "      <td>940.000000</td>\n",
              "      <td>940.000000</td>\n",
              "      <td>940.000000</td>\n",
              "      <td>940.000000</td>\n",
              "      <td>940.000000</td>\n",
              "    </tr>\n",
              "    <tr>\n",
              "      <th>mean</th>\n",
              "      <td>4.855407e+09</td>\n",
              "      <td>7637.910638</td>\n",
              "      <td>5.489702</td>\n",
              "      <td>5.475351</td>\n",
              "      <td>0.108171</td>\n",
              "      <td>1.502681</td>\n",
              "      <td>0.567543</td>\n",
              "      <td>3.340819</td>\n",
              "      <td>0.001606</td>\n",
              "      <td>21.164894</td>\n",
              "      <td>13.564894</td>\n",
              "      <td>192.812766</td>\n",
              "      <td>991.210638</td>\n",
              "      <td>2303.609574</td>\n",
              "      <td>1218.753191</td>\n",
              "      <td>20.313830</td>\n",
              "    </tr>\n",
              "    <tr>\n",
              "      <th>std</th>\n",
              "      <td>2.424805e+09</td>\n",
              "      <td>5087.150742</td>\n",
              "      <td>3.924606</td>\n",
              "      <td>3.907276</td>\n",
              "      <td>0.619897</td>\n",
              "      <td>2.658941</td>\n",
              "      <td>0.883580</td>\n",
              "      <td>2.040655</td>\n",
              "      <td>0.007346</td>\n",
              "      <td>32.844803</td>\n",
              "      <td>19.987404</td>\n",
              "      <td>109.174700</td>\n",
              "      <td>301.267437</td>\n",
              "      <td>718.166862</td>\n",
              "      <td>265.931767</td>\n",
              "      <td>4.437283</td>\n",
              "    </tr>\n",
              "    <tr>\n",
              "      <th>min</th>\n",
              "      <td>1.503960e+09</td>\n",
              "      <td>0.000000</td>\n",
              "      <td>0.000000</td>\n",
              "      <td>0.000000</td>\n",
              "      <td>0.000000</td>\n",
              "      <td>0.000000</td>\n",
              "      <td>0.000000</td>\n",
              "      <td>0.000000</td>\n",
              "      <td>0.000000</td>\n",
              "      <td>0.000000</td>\n",
              "      <td>0.000000</td>\n",
              "      <td>0.000000</td>\n",
              "      <td>0.000000</td>\n",
              "      <td>0.000000</td>\n",
              "      <td>2.000000</td>\n",
              "      <td>0.000000</td>\n",
              "    </tr>\n",
              "    <tr>\n",
              "      <th>25%</th>\n",
              "      <td>2.320127e+09</td>\n",
              "      <td>3789.750000</td>\n",
              "      <td>2.620000</td>\n",
              "      <td>2.620000</td>\n",
              "      <td>0.000000</td>\n",
              "      <td>0.000000</td>\n",
              "      <td>0.000000</td>\n",
              "      <td>1.945000</td>\n",
              "      <td>0.000000</td>\n",
              "      <td>0.000000</td>\n",
              "      <td>0.000000</td>\n",
              "      <td>127.000000</td>\n",
              "      <td>729.750000</td>\n",
              "      <td>1828.500000</td>\n",
              "      <td>989.750000</td>\n",
              "      <td>16.000000</td>\n",
              "    </tr>\n",
              "    <tr>\n",
              "      <th>50%</th>\n",
              "      <td>4.445115e+09</td>\n",
              "      <td>7405.500000</td>\n",
              "      <td>5.245000</td>\n",
              "      <td>5.245000</td>\n",
              "      <td>0.000000</td>\n",
              "      <td>0.210000</td>\n",
              "      <td>0.240000</td>\n",
              "      <td>3.365000</td>\n",
              "      <td>0.000000</td>\n",
              "      <td>4.000000</td>\n",
              "      <td>6.000000</td>\n",
              "      <td>199.000000</td>\n",
              "      <td>1057.500000</td>\n",
              "      <td>2134.000000</td>\n",
              "      <td>1440.000000</td>\n",
              "      <td>24.000000</td>\n",
              "    </tr>\n",
              "    <tr>\n",
              "      <th>75%</th>\n",
              "      <td>6.962181e+09</td>\n",
              "      <td>10727.000000</td>\n",
              "      <td>7.712500</td>\n",
              "      <td>7.710000</td>\n",
              "      <td>0.000000</td>\n",
              "      <td>2.052500</td>\n",
              "      <td>0.800000</td>\n",
              "      <td>4.782500</td>\n",
              "      <td>0.000000</td>\n",
              "      <td>32.000000</td>\n",
              "      <td>19.000000</td>\n",
              "      <td>264.000000</td>\n",
              "      <td>1229.500000</td>\n",
              "      <td>2793.250000</td>\n",
              "      <td>1440.000000</td>\n",
              "      <td>24.000000</td>\n",
              "    </tr>\n",
              "    <tr>\n",
              "      <th>max</th>\n",
              "      <td>8.877689e+09</td>\n",
              "      <td>36019.000000</td>\n",
              "      <td>28.030001</td>\n",
              "      <td>28.030001</td>\n",
              "      <td>4.942142</td>\n",
              "      <td>21.920000</td>\n",
              "      <td>6.480000</td>\n",
              "      <td>10.710000</td>\n",
              "      <td>0.110000</td>\n",
              "      <td>210.000000</td>\n",
              "      <td>143.000000</td>\n",
              "      <td>518.000000</td>\n",
              "      <td>1440.000000</td>\n",
              "      <td>4900.000000</td>\n",
              "      <td>1440.000000</td>\n",
              "      <td>24.000000</td>\n",
              "    </tr>\n",
              "  </tbody>\n",
              "</table>\n",
              "</div>\n",
              "      <button class=\"colab-df-convert\" onclick=\"convertToInteractive('df-41bb3691-2a96-4cc6-b4f9-68d941fa06c0')\"\n",
              "              title=\"Convert this dataframe to an interactive table.\"\n",
              "              style=\"display:none;\">\n",
              "        \n",
              "  <svg xmlns=\"http://www.w3.org/2000/svg\" height=\"24px\"viewBox=\"0 0 24 24\"\n",
              "       width=\"24px\">\n",
              "    <path d=\"M0 0h24v24H0V0z\" fill=\"none\"/>\n",
              "    <path d=\"M18.56 5.44l.94 2.06.94-2.06 2.06-.94-2.06-.94-.94-2.06-.94 2.06-2.06.94zm-11 1L8.5 8.5l.94-2.06 2.06-.94-2.06-.94L8.5 2.5l-.94 2.06-2.06.94zm10 10l.94 2.06.94-2.06 2.06-.94-2.06-.94-.94-2.06-.94 2.06-2.06.94z\"/><path d=\"M17.41 7.96l-1.37-1.37c-.4-.4-.92-.59-1.43-.59-.52 0-1.04.2-1.43.59L10.3 9.45l-7.72 7.72c-.78.78-.78 2.05 0 2.83L4 21.41c.39.39.9.59 1.41.59.51 0 1.02-.2 1.41-.59l7.78-7.78 2.81-2.81c.8-.78.8-2.07 0-2.86zM5.41 20L4 18.59l7.72-7.72 1.47 1.35L5.41 20z\"/>\n",
              "  </svg>\n",
              "      </button>\n",
              "      \n",
              "  <style>\n",
              "    .colab-df-container {\n",
              "      display:flex;\n",
              "      flex-wrap:wrap;\n",
              "      gap: 12px;\n",
              "    }\n",
              "\n",
              "    .colab-df-convert {\n",
              "      background-color: #E8F0FE;\n",
              "      border: none;\n",
              "      border-radius: 50%;\n",
              "      cursor: pointer;\n",
              "      display: none;\n",
              "      fill: #1967D2;\n",
              "      height: 32px;\n",
              "      padding: 0 0 0 0;\n",
              "      width: 32px;\n",
              "    }\n",
              "\n",
              "    .colab-df-convert:hover {\n",
              "      background-color: #E2EBFA;\n",
              "      box-shadow: 0px 1px 2px rgba(60, 64, 67, 0.3), 0px 1px 3px 1px rgba(60, 64, 67, 0.15);\n",
              "      fill: #174EA6;\n",
              "    }\n",
              "\n",
              "    [theme=dark] .colab-df-convert {\n",
              "      background-color: #3B4455;\n",
              "      fill: #D2E3FC;\n",
              "    }\n",
              "\n",
              "    [theme=dark] .colab-df-convert:hover {\n",
              "      background-color: #434B5C;\n",
              "      box-shadow: 0px 1px 3px 1px rgba(0, 0, 0, 0.15);\n",
              "      filter: drop-shadow(0px 1px 2px rgba(0, 0, 0, 0.3));\n",
              "      fill: #FFFFFF;\n",
              "    }\n",
              "  </style>\n",
              "\n",
              "      <script>\n",
              "        const buttonEl =\n",
              "          document.querySelector('#df-41bb3691-2a96-4cc6-b4f9-68d941fa06c0 button.colab-df-convert');\n",
              "        buttonEl.style.display =\n",
              "          google.colab.kernel.accessAllowed ? 'block' : 'none';\n",
              "\n",
              "        async function convertToInteractive(key) {\n",
              "          const element = document.querySelector('#df-41bb3691-2a96-4cc6-b4f9-68d941fa06c0');\n",
              "          const dataTable =\n",
              "            await google.colab.kernel.invokeFunction('convertToInteractive',\n",
              "                                                     [key], {});\n",
              "          if (!dataTable) return;\n",
              "\n",
              "          const docLinkHtml = 'Like what you see? Visit the ' +\n",
              "            '<a target=\"_blank\" href=https://colab.research.google.com/notebooks/data_table.ipynb>data table notebook</a>'\n",
              "            + ' to learn more about interactive tables.';\n",
              "          element.innerHTML = '';\n",
              "          dataTable['output_type'] = 'display_data';\n",
              "          await google.colab.output.renderOutput(dataTable, element);\n",
              "          const docLink = document.createElement('div');\n",
              "          docLink.innerHTML = docLinkHtml;\n",
              "          element.appendChild(docLink);\n",
              "        }\n",
              "      </script>\n",
              "    </div>\n",
              "  </div>\n",
              "  "
            ]
          },
          "metadata": {},
          "execution_count": 12
        }
      ],
      "source": [
        "df_activity.describe()\n"
      ]
    },
    {
      "cell_type": "markdown",
      "id": "322d071b",
      "metadata": {
        "id": "322d071b"
      },
      "source": [
        "#### Analyzing the findings\n",
        "* Rata-rata jumlah langkah adalah 7637\n",
        "* Rata-rata sebagian besar pengguna berjalan dalam jarak aktif ringan\n",
        "* Sebagian besar pengguna mencatat menit menetap pada 991 Menit atau 20 Jam per hari\n",
        "* Jumlah rata-rata kalori yang terbakar adalah 2303"
      ]
    },
    {
      "cell_type": "markdown",
      "id": "ccc4a1bf",
      "metadata": {
        "id": "ccc4a1bf"
      },
      "source": [
        "## Tahap 5: SHARE\n",
        "#### Buat Visualisasi untuk mengomunikasikan temuan analisis"
      ]
    },
    {
      "cell_type": "markdown",
      "id": "a62f9800",
      "metadata": {
        "id": "a62f9800"
      },
      "source": [
        "####  5.1 Data Visualization"
      ]
    },
    {
      "cell_type": "code",
      "execution_count": 13,
      "id": "206be357",
      "metadata": {
        "colab": {
          "base_uri": "https://localhost:8080/",
          "height": 404
        },
        "id": "206be357",
        "outputId": "a50f728d-1264-4c84-fa5f-614532182252"
      },
      "outputs": [
        {
          "output_type": "display_data",
          "data": {
            "text/plain": [
              "<Figure size 576x432 with 2 Axes>"
            ],
            "image/png": "[encoded data removed]"
          },
          "metadata": {
            "needs_background": "light"
          }
        }
      ],
      "source": [
        "# Looking at Calories Burned vs Total Steps Taken\n",
        "\n",
        "#plotting the scatterplot\n",
        "plt.figure(figsize=(8,6)) # specify size of the chart\n",
        "plt.scatter(df_activity.TotalSteps, df_activity.Calories, alpha = 0.5, c = df_activity.Calories, \n",
        "            cmap = \"spring\")\n",
        "\n",
        "# Adding the average amount of steps and calories\n",
        "avg_calories = 2303\n",
        "avg_steps = 7637\n",
        "\n",
        "plt.colorbar(orientation = \"vertical\")\n",
        "plt.axvline(avg_steps, color = \"Blue\", label = \"Average steps\")\n",
        "plt.axhline(avg_calories, color = \"Red\", label = \"Average calories burned\")\n",
        "plt.xlabel(\"Steps taken\")\n",
        "plt.ylabel(\"Calories burned\")\n",
        "plt.title(\"calories burned vs steps taken\")\n",
        "plt.grid(True)\n",
        "plt.legend()\n",
        "plt.show()\n"
      ]
    },
    {
      "cell_type": "markdown",
      "id": "402d6809",
      "metadata": {
        "id": "402d6809"
      },
      "source": [
        "#### Calories burned vs steps taken\n",
        "* Terdapat korelasi positif antara jumlah langkah yang diambil dan jumlah kalori yang dibakar"
      ]
    },
    {
      "cell_type": "code",
      "execution_count": 14,
      "id": "ea776814",
      "metadata": {
        "colab": {
          "base_uri": "https://localhost:8080/",
          "height": 388
        },
        "id": "ea776814",
        "outputId": "567f64e5-3080-48c3-d595-4e69f486a6c7"
      },
      "outputs": [
        {
          "output_type": "display_data",
          "data": {
            "text/plain": [
              "<Figure size 432x360 with 1 Axes>"
            ],
            "image/png": "[encoded data removed]"
          },
          "metadata": {
            "needs_background": "light"
          }
        }
      ],
      "source": [
        "# Looking at the Frequency of FitBit usage \n",
        "\n",
        "#plotting the histogram\n",
        "plt.figure(figsize=(6,5)) \n",
        "plt.hist(df_activity.WeekDay, bins = 7, \n",
        "         width = 0.6, color = \"deeppink\", edgecolor = \"black\")\n",
        "\n",
        "# adding labels\n",
        "plt.xlabel(\"Days of the week\")\n",
        "plt.xticks(rotation = 45)\n",
        "plt.ylabel(\"Frequency\")\n",
        "plt.title(\"# times users used fitbit app during the week\")\n",
        "plt.show()\n"
      ]
    },
    {
      "cell_type": "markdown",
      "id": "914d4a24",
      "metadata": {
        "id": "914d4a24"
      },
      "source": [
        "#### Number of times users used app \n",
        "* Frekuensi turun pada hari Jumat hingga Senin\n",
        "* Pengguna mencatat aktivitas mereka lebih banyak selama pertengahan minggu"
      ]
    },
    {
      "cell_type": "code",
      "execution_count": 15,
      "id": "525d7c52",
      "metadata": {
        "colab": {
          "base_uri": "https://localhost:8080/",
          "height": 428
        },
        "id": "525d7c52",
        "outputId": "38d5a9b1-456e-4b35-fa1a-f31bd4f6372c"
      },
      "outputs": [
        {
          "output_type": "display_data",
          "data": {
            "text/plain": [
              "<Figure size 640x480 with 1 Axes>"
            ],
            "image/png": "[encoded data removed]"
          },
          "metadata": {}
        }
      ],
      "source": [
        "# Type of Users based on Activity in Minutes\n",
        "VeryActiveMinutes = df_activity[\"VeryActiveMinutes\"].sum()\n",
        "FairlyActiveMinutes = df_activity[\"FairlyActiveMinutes\"].sum()\n",
        "LightlyActiveMinutes = df_activity[\"LightlyActiveMinutes\"].sum()\n",
        "SedentaryMinutes = df_activity[\"SedentaryMinutes\"].sum()\n",
        "\n",
        "#plotting pie chart\n",
        "slices = [VeryActiveMinutes, FairlyActiveMinutes, LightlyActiveMinutes, SedentaryMinutes]\n",
        "labels = [\"Very active\", \"Fairly active\", \"Lightly active\", \"Sedentary\"]\n",
        "colours = [\"turquoise\", \"hotpink\", \"coral\", \"orchid\"]\n",
        "explode = [0, 0, 0, 0.1]\n",
        "plt.style.use(\"default\")\n",
        "plt.pie(slices, labels = labels, \n",
        "        colors = colours, wedgeprops = {\"edgecolor\": \"black\"}, \n",
        "        explode = explode, autopct = \"%1.1f%%\") \n",
        "plt.title(\"type of users based on activity in minutes\")\n",
        "#plt.tight_layout()\n",
        "plt.show()\n"
      ]
    },
    {
      "cell_type": "markdown",
      "id": "b69db846",
      "metadata": {
        "id": "b69db846"
      },
      "source": [
        "#### Types of users based on activity in minutes\n",
        "* Sebagian besar pengguna tidak banyak bergerak\n",
        "* Aplikasi FitBit tidak digunakan untuk melacak kebugaran sehingga 1,7% pengguna sangat aktif"
      ]
    },
    {
      "cell_type": "markdown",
      "id": "aa2e7647",
      "metadata": {
        "id": "aa2e7647"
      },
      "source": [
        "## Tahap 6: ACT"
      ]
    },
    {
      "cell_type": "markdown",
      "id": "c579d557",
      "metadata": {
        "id": "c579d557"
      },
      "source": [
        "#### Menyampaikan insight dan membuat rekomendasi berdasarkan hasil analisis"
      ]
    },
    {
      "cell_type": "markdown",
      "id": "7cb5a9cd",
      "metadata": {
        "id": "7cb5a9cd"
      },
      "source": [
        "#### Apa saja tren dalam penggunaan perangkat pintar?\n",
        "* Sebagian besar Pengguna (81,3%) menggunakan aplikasi FitBit selama aktivitas menetap dan tidak menggunakannya untuk melacak kebugaran\n",
        "* Pengguna mencatat aktivitas mereka selama pertengahan minggu lebih banyak daripada akhir pekan\n",
        "     * Mungkin pengguna menghabiskan lebih banyak waktu di luar selama pertengahan minggu dan tinggal di akhir pekan.\n",
        "    "
      ]
    },
    {
      "cell_type": "markdown",
      "id": "d0bddb06",
      "metadata": {
        "id": "d0bddb06"
      },
      "source": [
        "#### Bagaimana tren ini berlaku untuk pelanggan Bellabeat?\n",
        "* FitBit dan Bellabeat dapat berfokus pada pembuatan produk yang menginformasikan wanita tentang kesehatan mereka dan menginspirasi mereka untuk memiliki pengetahuan tentang kebiasaan mereka sendiri. Tren yang ditemukan pada kesehatan, kebugaran, dan kebiasaan dapat diterapkan pada pelanggan Bellabeat."
      ]
    },
    {
      "cell_type": "markdown",
      "id": "32f32912",
      "metadata": {
        "id": "32f32912"
      },
      "source": [
        "#### Bagaimana tren ini dapat membantu memengaruhi strategi pemasaran Bellabeat?"
      ]
    },
    {
      "cell_type": "markdown",
      "id": "e96fb2b2",
      "metadata": {
        "id": "e96fb2b2"
      },
      "source": [
        "* Untuk membantu memotivasi pengguna, aplikasi Bellabeat dapat mengirimkan rangkuman harian, mingguan, bulanan mengenai jumlah total langkah, kalori yang terbakar, dan total waktu yang dihabiskan pada berbagai tingkat aktivitas. Aplikasi ini dapat mengirimkan motivasi kepada pengguna yang tidak mencapai tujuan mereka dan memberikan apresiasi kepada mereka yang mencapai tujuan mereka.\n",
        "\n",
        "* Pengguna memiliki rata-rata 7.638 langkah yang berada di bawah 10.000 langkah harian yang direkomendasikan CDC. Selain itu, analisis mengungkapkan bahwa rata-rata pengguna menghabiskan 81,3% dari hari mereka untuk tidak banyak bergerak. Bellabeat dapat mengirimkan notifikasi di aplikasinya untuk mendorong pengguna agar tetap aktif sepanjang hari. Notifikasi tersebut dapat mencakup berapa banyak langkah yang telah dilakukan pengguna sejauh ini dan memberikan contoh aktivitas yang dapat mereka lakukan untuk menjadi lebih aktif."
      ]
    },
    {
      "cell_type": "code",
      "execution_count": 15,
      "id": "03c143d8",
      "metadata": {
        "id": "03c143d8"
      },
      "outputs": [],
      "source": []
    }
  ],
  "metadata": {
    "kernelspec": {
      "display_name": "Python 3 (ipykernel)",
      "language": "python",
      "name": "python3"
    },
    "language_info": {
      "codemirror_mode": {
        "name": "ipython",
        "version": 3
      },
      "file_extension": ".py",
      "mimetype": "text/x-python",
      "name": "python",
      "nbconvert_exporter": "python",
      "pygments_lexer": "ipython3",
      "version": "3.9.7"
    },
    "colab": {
      "provenance": []
    }
  },
  "nbformat": 4,
  "nbformat_minor": 5
}